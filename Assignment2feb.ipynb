{
 "cells": [
  {
   "cell_type": "markdown",
   "id": "a223e0df",
   "metadata": {},
   "source": [
    "## 2nd Feb Assignment"
   ]
  },
  {
   "cell_type": "markdown",
   "id": "ed019211",
   "metadata": {},
   "source": [
    "### Solution (1)\n",
    "* Tuple items are ordered.\n",
    "* unchangeable and allow duplicate values.\n",
    "* Tuple items are indexed.\n",
    "\n",
    "### Yes tuple is immutable we can't change tuple items once it is created."
   ]
  },
  {
   "cell_type": "markdown",
   "id": "b7d8090f",
   "metadata": {},
   "source": [
    "### Solution (2)\n",
    "\n",
    "* We have two methods in tuple that is count and index\n"
   ]
  },
  {
   "cell_type": "code",
   "execution_count": 1,
   "id": "7c6cc33c",
   "metadata": {},
   "outputs": [
    {
     "data": {
      "text/plain": [
       "1"
      ]
     },
     "execution_count": 1,
     "metadata": {},
     "output_type": "execute_result"
    }
   ],
   "source": [
    "fruits = ('Mango','Banana','Grapes','Kiwi','Watermelon','Apple','Kiwi')\n",
    "fruits.count('Apple')"
   ]
  },
  {
   "cell_type": "code",
   "execution_count": 2,
   "id": "4dd92251",
   "metadata": {},
   "outputs": [
    {
     "data": {
      "text/plain": [
       "2"
      ]
     },
     "execution_count": 2,
     "metadata": {},
     "output_type": "execute_result"
    }
   ],
   "source": [
    "fruits.index('Grapes')"
   ]
  },
  {
   "cell_type": "markdown",
   "id": "40a57c81",
   "metadata": {},
   "source": [
    "#### Tuple has only two method because it not allowed to update value as list allowed."
   ]
  },
  {
   "cell_type": "markdown",
   "id": "a1941bbb",
   "metadata": {},
   "source": [
    "### Solution (3)\n",
    "* A set collections datatype not allow duplicate values."
   ]
  },
  {
   "cell_type": "code",
   "execution_count": 6,
   "id": "188a306b",
   "metadata": {},
   "outputs": [
    {
     "data": {
      "text/plain": [
       "[1, 2, 3, 4]"
      ]
     },
     "execution_count": 6,
     "metadata": {},
     "output_type": "execute_result"
    }
   ],
   "source": [
    "List = [1, 1, 1, 2, 1, 3, 1, 4, 2, 1, 2, 2, 2, 3, 2, 4, 3, 1, 3, 2, 3, 3, 3, 4, 4, 1, 4, 2, 4, 3, 4, 4]\n",
    "list(set(List))"
   ]
  },
  {
   "cell_type": "markdown",
   "id": "f6e904ac",
   "metadata": {},
   "source": [
    "### Solution (4)\n",
    "* There is no difference between union and update both are same."
   ]
  },
  {
   "cell_type": "code",
   "execution_count": 7,
   "id": "e9c90090",
   "metadata": {},
   "outputs": [],
   "source": [
    "set1 = {'Python','Julia','JavaScript'}\n",
    "set2 = {'Swift','R'}"
   ]
  },
  {
   "cell_type": "code",
   "execution_count": 10,
   "id": "ac24cc0d",
   "metadata": {},
   "outputs": [],
   "source": [
    "set3 = set1.union(set2)"
   ]
  },
  {
   "cell_type": "code",
   "execution_count": 11,
   "id": "da4b67af",
   "metadata": {},
   "outputs": [
    {
     "data": {
      "text/plain": [
       "{'JavaScript', 'Julia', 'Python', 'R', 'Swift'}"
      ]
     },
     "execution_count": 11,
     "metadata": {},
     "output_type": "execute_result"
    }
   ],
   "source": [
    "set3"
   ]
  },
  {
   "cell_type": "code",
   "execution_count": 12,
   "id": "cfbf1cca",
   "metadata": {},
   "outputs": [],
   "source": [
    "set1.update(set2)"
   ]
  },
  {
   "cell_type": "code",
   "execution_count": 13,
   "id": "d4a698ba",
   "metadata": {},
   "outputs": [
    {
     "data": {
      "text/plain": [
       "{'JavaScript', 'Julia', 'Python', 'R', 'Swift'}"
      ]
     },
     "execution_count": 13,
     "metadata": {},
     "output_type": "execute_result"
    }
   ],
   "source": [
    "set1"
   ]
  },
  {
   "cell_type": "markdown",
   "id": "5a352bc4",
   "metadata": {},
   "source": [
    "### Solution (5)\n",
    "* A dict is collection datatype used to store values in the form of key:value pairs.\n",
    "* dictionary is ordered and changeable and not allow duplicates."
   ]
  },
  {
   "cell_type": "code",
   "execution_count": 14,
   "id": "b6efc2d9",
   "metadata": {},
   "outputs": [
    {
     "data": {
      "text/plain": [
       "{'Name': 'Anirudhra', 'Age': 12}"
      ]
     },
     "execution_count": 14,
     "metadata": {},
     "output_type": "execute_result"
    }
   ],
   "source": [
    "data = {'Name':'Anirudhra','Age':12}\n",
    "data"
   ]
  },
  {
   "cell_type": "markdown",
   "id": "96f71870",
   "metadata": {},
   "source": [
    "### Solution (6)\n",
    "* Yes it is possible to create nested dictionary"
   ]
  },
  {
   "cell_type": "code",
   "execution_count": 17,
   "id": "9e307c19",
   "metadata": {},
   "outputs": [
    {
     "data": {
      "text/plain": [
       "{'data1': {'Name': 'Anirdudhra', 'Age': 21},\n",
       " 'data2': {'Name': 'Yash', 'Age': 18}}"
      ]
     },
     "execution_count": 17,
     "metadata": {},
     "output_type": "execute_result"
    }
   ],
   "source": [
    "nested_dict = {'data1':{'Name':'Anirdudhra','Age':21},'data2':{'Name':'Yash','Age':18}}\n",
    "nested_dict"
   ]
  },
  {
   "cell_type": "markdown",
   "id": "323f92b6",
   "metadata": {},
   "source": [
    "### Solution (7)"
   ]
  },
  {
   "cell_type": "code",
   "execution_count": 2,
   "id": "064b131a",
   "metadata": {},
   "outputs": [],
   "source": [
    "dict1 = {'language' : 'Python', 'course': 'Data Science Masters'}"
   ]
  },
  {
   "cell_type": "code",
   "execution_count": 3,
   "id": "b66c63ca",
   "metadata": {},
   "outputs": [
    {
     "data": {
      "text/plain": [
       "['Python', 'Machine Learning', 'Deep Learning']"
      ]
     },
     "execution_count": 3,
     "metadata": {},
     "output_type": "execute_result"
    }
   ],
   "source": [
    "dict1.setdefault(\"courses\",['Python','Machine Learning','Deep Learning'])"
   ]
  },
  {
   "cell_type": "code",
   "execution_count": 4,
   "id": "058c6a2f",
   "metadata": {},
   "outputs": [
    {
     "data": {
      "text/plain": [
       "{'language': 'Python',\n",
       " 'course': 'Data Science Masters',\n",
       " 'courses': ['Python', 'Machine Learning', 'Deep Learning']}"
      ]
     },
     "execution_count": 4,
     "metadata": {},
     "output_type": "execute_result"
    }
   ],
   "source": [
    "dict1"
   ]
  },
  {
   "cell_type": "markdown",
   "id": "6e079b62",
   "metadata": {},
   "source": [
    "### Solution (8)\n",
    "* Keys, values, items are three views object in dictionary"
   ]
  },
  {
   "cell_type": "code",
   "execution_count": 5,
   "id": "57376c9d",
   "metadata": {},
   "outputs": [],
   "source": [
    "dict1 = {'Sport': 'Cricket' , 'Teams': ['India', 'Australia', 'England', 'South Africa', 'Sri Lanka', 'New Zealand']}"
   ]
  },
  {
   "cell_type": "code",
   "execution_count": 6,
   "id": "8f2df92a",
   "metadata": {},
   "outputs": [
    {
     "data": {
      "text/plain": [
       "dict_keys(['Sport', 'Teams'])"
      ]
     },
     "execution_count": 6,
     "metadata": {},
     "output_type": "execute_result"
    }
   ],
   "source": [
    "dict1.keys()"
   ]
  },
  {
   "cell_type": "code",
   "execution_count": 7,
   "id": "858f42e8",
   "metadata": {},
   "outputs": [
    {
     "data": {
      "text/plain": [
       "dict_values(['Cricket', ['India', 'Australia', 'England', 'South Africa', 'Sri Lanka', 'New Zealand']])"
      ]
     },
     "execution_count": 7,
     "metadata": {},
     "output_type": "execute_result"
    }
   ],
   "source": [
    "dict1.values()"
   ]
  },
  {
   "cell_type": "code",
   "execution_count": 8,
   "id": "1a1950ed",
   "metadata": {},
   "outputs": [
    {
     "data": {
      "text/plain": [
       "dict_items([('Sport', 'Cricket'), ('Teams', ['India', 'Australia', 'England', 'South Africa', 'Sri Lanka', 'New Zealand'])])"
      ]
     },
     "execution_count": 8,
     "metadata": {},
     "output_type": "execute_result"
    }
   ],
   "source": [
    "dict1.items()"
   ]
  },
  {
   "cell_type": "code",
   "execution_count": null,
   "id": "43ed3e86",
   "metadata": {},
   "outputs": [],
   "source": []
  }
 ],
 "metadata": {
  "kernelspec": {
   "display_name": "Python 3 (ipykernel)",
   "language": "python",
   "name": "python3"
  },
  "language_info": {
   "codemirror_mode": {
    "name": "ipython",
    "version": 3
   },
   "file_extension": ".py",
   "mimetype": "text/x-python",
   "name": "python",
   "nbconvert_exporter": "python",
   "pygments_lexer": "ipython3",
   "version": "3.10.4"
  }
 },
 "nbformat": 4,
 "nbformat_minor": 5
}
